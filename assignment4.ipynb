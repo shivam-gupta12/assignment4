{
 "cells": [
  {
   "cell_type": "code",
   "execution_count": 26,
   "id": "5bd567dd-9c96-49fd-9fd1-950ee6b4f428",
   "metadata": {},
   "outputs": [],
   "source": [
    "#question1\n",
    "#def keyword is used to create a function\n",
    "def odd_numbers():\n",
    "    l=[]\n",
    "    for i in range(1,25):\n",
    "        if i%2 != 0:\n",
    "            l.append(i)\n",
    "    return l"
   ]
  },
  {
   "cell_type": "code",
   "execution_count": 12,
   "id": "f4c2dd5b-63c6-4f56-a067-03e30c5daa30",
   "metadata": {},
   "outputs": [
    {
     "name": "stdout",
     "output_type": "stream",
     "text": [
      "([1, 2, 3, 4, 5], 'hello', 'bye')\n",
      "{'a': [1, 2, 3, 4, 5], 'b': 'hello_world', 'c': 23.45}\n"
     ]
    }
   ],
   "source": [
    "#question2\n",
    "# '*'--> multiple arguments as input\n",
    "#'**'---> key value pair //dictionary\n",
    "def test1(*args):\n",
    "    return args\n",
    "def test2(**kwargs):\n",
    "    return kwargs\n",
    "print(test1([1,2,3,4,5],\"hello\",\"bye\"))\n",
    "print(test2(a = [1,2,3,4,5], b = \"hello_world\", c=23.45))"
   ]
  },
  {
   "cell_type": "code",
   "execution_count": 3,
   "id": "6e3faa92-a64e-4a41-a419-d69ae4c9a92e",
   "metadata": {},
   "outputs": [
    {
     "name": "stdout",
     "output_type": "stream",
     "text": [
      "2\n",
      "4\n",
      "6\n",
      "8\n",
      "10\n"
     ]
    }
   ],
   "source": [
    "#question3\n",
    "#Iterator in Python is an object that is used to iterate over iterable objects like lists, tuples, dicts, and sets. \n",
    "#The iterator object is initialized using the iter() method. \n",
    "#It uses the next() method for iteration.\n",
    "l=[2,4,6,8,10,12,14,16,18,20]\n",
    "l1=iter(l)\n",
    "\n",
    "for i in range(5):\n",
    "    print(next(l1))"
   ]
  },
  {
   "cell_type": "code",
   "execution_count": 11,
   "id": "58ce500f-68d2-4986-a52a-bcac6e625fb7",
   "metadata": {},
   "outputs": [
    {
     "name": "stdout",
     "output_type": "stream",
     "text": [
      "0\n",
      "1\n",
      "2\n",
      "3\n",
      "4\n",
      "5\n",
      "6\n",
      "7\n",
      "8\n",
      "9\n"
     ]
    }
   ],
   "source": [
    "#question4\n",
    "#A generator-function is defined like a normal function, \n",
    "#but whenever it needs to generate a value, it does so with the yield keyword rather than return. \n",
    "#If the body of a def contains yield, the function automatically becomes a generator function. \n",
    "#it optimizes the memory utilization\n",
    "\n",
    "#yield keyword--The yield statement suspends a function’s execution \n",
    "#and sends a value back to the caller, \n",
    "#but retains enough state to enable the function to resume where it left off. \n",
    "#When the function resumes, it continues execution immediately after the last yield run.\n",
    "\n",
    "def gen_func(x):\n",
    "    for i in range(x):\n",
    "        yield i\n",
    "\n",
    "for i in gen_func(10):\n",
    "    print(i)"
   ]
  },
  {
   "cell_type": "code",
   "execution_count": 12,
   "id": "8fea1f33-d202-4885-8c71-0c1d09c97389",
   "metadata": {},
   "outputs": [
    {
     "name": "stdout",
     "output_type": "stream",
     "text": [
      "2\n",
      "3\n",
      "5\n",
      "7\n",
      "9\n",
      "11\n",
      "13\n",
      "15\n",
      "17\n",
      "19\n"
     ]
    }
   ],
   "source": [
    "#question5\n",
    "def my_gen(x):\n",
    "    if x<=999:\n",
    "        for i in range(2,x):\n",
    "            if i==2 or i%2 != 0:\n",
    "                yield i\n",
    "    else:\n",
    "        yield \"number greater than or equal to 1000\"\n",
    "            \n",
    "prime_numbers = my_gen(20)\n",
    "\n",
    "for i in my_gen(20):\n",
    "    print(next(prime_numbers))"
   ]
  },
  {
   "cell_type": "code",
   "execution_count": 13,
   "id": "bcefb2cf-13a0-4e2b-8b2f-7b52a1534e5e",
   "metadata": {},
   "outputs": [
    {
     "name": "stdout",
     "output_type": "stream",
     "text": [
      "0\n",
      "1\n",
      "1\n",
      "2\n",
      "3\n",
      "5\n",
      "8\n",
      "13\n",
      "21\n",
      "34\n"
     ]
    }
   ],
   "source": [
    "#question6\n",
    "#fibonaaci series- 0 1 1 2 3 5 8 13 ..........\n",
    "\n",
    "count=0\n",
    "a,b=0,1\n",
    "\n",
    "while count<10:\n",
    "    print(a)\n",
    "    c=a+b\n",
    "    a=b\n",
    "    b=c\n",
    "    count=count+1\n"
   ]
  },
  {
   "cell_type": "code",
   "execution_count": 17,
   "id": "15f372dd-ad40-463b-b1f2-7b9e33c47ed4",
   "metadata": {},
   "outputs": [
    {
     "data": {
      "text/plain": [
       "['p', 'w', 's', 'k', 'i', 'l', 'l', 's']"
      ]
     },
     "execution_count": 17,
     "metadata": {},
     "output_type": "execute_result"
    }
   ],
   "source": [
    "#question 7\n",
    "l=[i for i in 'pwskills']\n",
    "l"
   ]
  },
  {
   "cell_type": "code",
   "execution_count": 17,
   "id": "d6fee3e2-b8a0-407f-a7eb-75fd6e81679c",
   "metadata": {},
   "outputs": [
    {
     "name": "stdin",
     "output_type": "stream",
     "text": [
      "enter number 121\n"
     ]
    },
    {
     "name": "stdout",
     "output_type": "stream",
     "text": [
      "the given number is a palindrome\n"
     ]
    }
   ],
   "source": [
    "#question8\n",
    "n=int(input(\"enter number\"))\n",
    "def is_palindrome(n):\n",
    "    if str(n) == str(n)[::-1] :\n",
    "        print(\"the given number is a palindrome\")\n",
    "    else:\n",
    "        print(\"the number is not a palindrome\")\n",
    "\n",
    "is_palindrome(n)"
   ]
  },
  {
   "cell_type": "code",
   "execution_count": 4,
   "id": "050af97d-1a4e-4f02-b5c4-592b720f0c3c",
   "metadata": {},
   "outputs": [
    {
     "data": {
      "text/plain": [
       "[1,\n",
       " 3,\n",
       " 5,\n",
       " 7,\n",
       " 9,\n",
       " 11,\n",
       " 13,\n",
       " 15,\n",
       " 17,\n",
       " 19,\n",
       " 21,\n",
       " 23,\n",
       " 25,\n",
       " 27,\n",
       " 29,\n",
       " 31,\n",
       " 33,\n",
       " 35,\n",
       " 37,\n",
       " 39,\n",
       " 41,\n",
       " 43,\n",
       " 45,\n",
       " 47,\n",
       " 49,\n",
       " 51,\n",
       " 53,\n",
       " 55,\n",
       " 57,\n",
       " 59,\n",
       " 61,\n",
       " 63,\n",
       " 65,\n",
       " 67,\n",
       " 69,\n",
       " 71,\n",
       " 73,\n",
       " 75,\n",
       " 77,\n",
       " 79,\n",
       " 81,\n",
       " 83,\n",
       " 85,\n",
       " 87,\n",
       " 89,\n",
       " 91,\n",
       " 93,\n",
       " 95,\n",
       " 97,\n",
       " 99]"
      ]
     },
     "execution_count": 4,
     "metadata": {},
     "output_type": "execute_result"
    }
   ],
   "source": [
    "#question9\n",
    "l1=[i for i in range(1,100)]\n",
    "list(filter(lambda x:x%2!=0, l1))"
   ]
  },
  {
   "cell_type": "code",
   "execution_count": null,
   "id": "6b0ce2a5-deae-487e-b105-c8e8d736f315",
   "metadata": {},
   "outputs": [],
   "source": []
  }
 ],
 "metadata": {
  "kernelspec": {
   "display_name": "Python 3 (ipykernel)",
   "language": "python",
   "name": "python3"
  },
  "language_info": {
   "codemirror_mode": {
    "name": "ipython",
    "version": 3
   },
   "file_extension": ".py",
   "mimetype": "text/x-python",
   "name": "python",
   "nbconvert_exporter": "python",
   "pygments_lexer": "ipython3",
   "version": "3.10.8"
  }
 },
 "nbformat": 4,
 "nbformat_minor": 5
}
